{
 "cells": [
  {
   "cell_type": "markdown",
   "metadata": {},
   "source": [
    "# Handin Exercise 6\n"
   ]
  },
  {
   "cell_type": "markdown",
   "metadata": {},
   "source": [
    "Create a module containing a class: TextComparer with the following methods:\n",
    "1. `__init__(self, url_list)`\n",
    "2. `download(url,filename)` that stores the file on disk and raises NotFoundException when url returns 404\n",
    "3. `multi_download()` uses threads to download multiple urls as text and stores filenames on a property of the TextComparer class object (Hint: use the download() method and create the filenames from the url or from the response object)\n",
    "4. `__iter__()` returns an iterator\n",
    "5. `__next__()` returns the next filename (and stops when there are no more)\n",
    "6. `urllist_generator()` returns a generator to loop through the urls\n",
    "7. `avg_vowels(text)` - a rough estimate on readability returns average number of vowels in the words of the text\n",
    "8. `hardest_read()` reads all text from files in `filenames` and returns the filename of the text with the highest vowel score (use all the cpu cores on the computer for this work.\n",
    "### Ex 2\n",
    "Create a notebook and import your module from above\n",
    "1. Find 10 books on https://www.gutenberg.org/browse/scores/top and download them using an object of the class you just created before\n",
    "2. Test the different methods of your class\n",
    "3. Make a bar plot with a sorted list of books on x-axis and avg vowels on y-axis"
   ]
  },
  {
   "cell_type": "markdown",
   "metadata": {},
   "source": [
    "## 02 Status\n",
    "Did exercise one, the mandatory one.\n"
   ]
  },
  {
   "cell_type": "markdown",
   "metadata": {},
   "source": [
    "## 03 Solution"
   ]
  },
  {
   "cell_type": "code",
   "execution_count": 20,
   "metadata": {},
   "outputs": [
    {
     "name": "stdout",
     "output_type": "stream",
     "text": [
      "['1080-0.txt', '1952-0.txt', '11-0.txt', '2542-0.txt', '84-0.txt', '408-0.txt', '25344-0.txt', '1342-0.txt', '345-0.txt', '2701-0.txt']\n"
     ]
    }
   ],
   "source": [
    "# Find 10 books on https://www.gutenberg.org/browse/scores/top and download them using an object of the class you just created before\n",
    "from modules_w6 import TextComparer \n",
    "import pandas as pd\n",
    "\n",
    "booklist=['https://www.gutenberg.org/files/84/84-0.txt','https://www.gutenberg.org/files/1342/1342-0.txt','https://www.gutenberg.org/files/25344/25344-0.txt','https://www.gutenberg.org/files/11/11-0.txt','https://www.gutenberg.org/files/1952/1952-0.txt','https://www.gutenberg.org/files/2542/2542-0.txt','https://www.gutenberg.org/files/408/408-0.txt','https://www.gutenberg.org/files/2701/2701-0.txt','https://www.gutenberg.org/files/345/345-0.txt','https://www.gutenberg.org/files/1080/1080-0.txt']\n",
    "tc=TextComparer.TextComparer(booklist)\n",
    "tc.multi_download()\n",
    "print(tc.file_list)\n"
   ]
  },
  {
   "cell_type": "code",
   "execution_count": 2,
   "metadata": {},
   "outputs": [
    {
     "ename": "NotFoundException",
     "evalue": "Oh no, https://www.gutenberg.org/files/84/84-075.txt is not found!",
     "output_type": "error",
     "traceback": [
      "\u001b[0;31m---------------------------------------------------------------------------\u001b[0m",
      "\u001b[0;31mNotFoundException\u001b[0m                         Traceback (most recent call last)",
      "\u001b[0;32m<ipython-input-2-f9a0aed25050>\u001b[0m in \u001b[0;36m<module>\u001b[0;34m\u001b[0m\n\u001b[1;32m      2\u001b[0m \u001b[0;31m# download(url,filename) that stores the file on disk and raises NotFoundException when url returns 404\u001b[0m\u001b[0;34m\u001b[0m\u001b[0;34m\u001b[0m\u001b[0;34m\u001b[0m\u001b[0m\n\u001b[1;32m      3\u001b[0m \u001b[0mtc\u001b[0m\u001b[0;34m.\u001b[0m\u001b[0mdownload\u001b[0m\u001b[0;34m(\u001b[0m\u001b[0;34m'https://www.gutenberg.org/files/84/84-0.txt'\u001b[0m\u001b[0;34m)\u001b[0m\u001b[0;34m\u001b[0m\u001b[0;34m\u001b[0m\u001b[0m\n\u001b[0;32m----> 4\u001b[0;31m \u001b[0mtc\u001b[0m\u001b[0;34m.\u001b[0m\u001b[0mdownload\u001b[0m\u001b[0;34m(\u001b[0m\u001b[0;34m'https://www.gutenberg.org/files/84/84-075.txt'\u001b[0m\u001b[0;34m)\u001b[0m\u001b[0;34m\u001b[0m\u001b[0;34m\u001b[0m\u001b[0m\n\u001b[0m",
      "\u001b[0;32m~/Documents/skole/semester4/python/handins/python_handin_template/modules_w6/TextComparer.py\u001b[0m in \u001b[0;36mdownload\u001b[0;34m(self, url, filename)\u001b[0m\n\u001b[1;32m     37\u001b[0m \u001b[0;34m\u001b[0m\u001b[0m\n\u001b[1;32m     38\u001b[0m         \u001b[0;32mif\u001b[0m \u001b[0mr\u001b[0m\u001b[0;34m.\u001b[0m\u001b[0mstatus_code\u001b[0m \u001b[0;34m==\u001b[0m \u001b[0;36m404\u001b[0m\u001b[0;34m:\u001b[0m\u001b[0;34m\u001b[0m\u001b[0;34m\u001b[0m\u001b[0m\n\u001b[0;32m---> 39\u001b[0;31m             \u001b[0;32mraise\u001b[0m \u001b[0mNotFoundException\u001b[0m\u001b[0;34m(\u001b[0m\u001b[0;34mf'Oh no, {url} is not found!'\u001b[0m\u001b[0;34m)\u001b[0m\u001b[0;34m\u001b[0m\u001b[0;34m\u001b[0m\u001b[0m\n\u001b[0m\u001b[1;32m     40\u001b[0m \u001b[0;34m\u001b[0m\u001b[0m\n\u001b[1;32m     41\u001b[0m         \u001b[0;32melse\u001b[0m\u001b[0;34m:\u001b[0m\u001b[0;34m\u001b[0m\u001b[0;34m\u001b[0m\u001b[0m\n",
      "\u001b[0;31mNotFoundException\u001b[0m: Oh no, https://www.gutenberg.org/files/84/84-075.txt is not found!"
     ]
    }
   ],
   "source": [
    "# Test the different methods of your class\n",
    "# download(url,filename) that stores the file on disk and raises NotFoundException when url returns 404\n",
    "tc.download('https://www.gutenberg.org/files/84/84-0.txt')\n",
    "tc.download('https://www.gutenberg.org/files/84/84-075.txt')\n"
   ]
  },
  {
   "cell_type": "code",
   "execution_count": 3,
   "metadata": {},
   "outputs": [],
   "source": [
    "# Test the different methods of your class\n",
    "#multi_download() uses threads to download multiple urls as text and stores filenames on a property of the TextComparer class object (Hint: use the download() method and create the filenames from the url or from the response object)\n",
    "tc.multi_download()\n"
   ]
  },
  {
   "cell_type": "code",
   "execution_count": 6,
   "metadata": {},
   "outputs": [
    {
     "data": {
      "text/plain": [
       "['1952-0.txt',\n",
       " '11-0.txt',\n",
       " '1080-0.txt',\n",
       " '1342-0.txt',\n",
       " '2542-0.txt',\n",
       " '2701-0.txt',\n",
       " '25344-0.txt',\n",
       " '84-0.txt',\n",
       " '408-0.txt',\n",
       " '345-0.txt']"
      ]
     },
     "execution_count": 6,
     "metadata": {},
     "output_type": "execute_result"
    }
   ],
   "source": [
    "# Test the different methods of your class'\n",
    "# __iter__() returns an iterator\n",
    "#__next__() returns the next filename (and stops when there are no more)\n",
    "[x for x in tc]\n"
   ]
  },
  {
   "cell_type": "code",
   "execution_count": 7,
   "metadata": {},
   "outputs": [
    {
     "data": {
      "text/plain": [
       "(1.5224134784988748, '345-0.txt')"
      ]
     },
     "execution_count": 7,
     "metadata": {},
     "output_type": "execute_result"
    }
   ],
   "source": [
    "# Test the different methods of your class'\n",
    "#avg_vowels(text) - a rough estimate on readability returns average number of vowels in the words of the text\n",
    "tc.avg_vowels('345-0.txt')"
   ]
  },
  {
   "cell_type": "code",
   "execution_count": 8,
   "metadata": {},
   "outputs": [
    {
     "data": {
      "text/plain": [
       "'1080-0.txt'"
      ]
     },
     "execution_count": 8,
     "metadata": {},
     "output_type": "execute_result"
    }
   ],
   "source": [
    "tc.hardest_read()"
   ]
  },
  {
   "cell_type": "code",
   "execution_count": 35,
   "metadata": {},
   "outputs": [
    {
     "data": {
      "text/plain": [
       "<AxesSubplot:xlabel='book'>"
      ]
     },
     "execution_count": 35,
     "metadata": {},
     "output_type": "execute_result"
    },
    {
     "data": {
      "image/png": "[encoded data removed]",
      "text/plain": [
       "<Figure size 432x288 with 1 Axes>"
      ]
     },
     "metadata": {
      "needs_background": "light"
     },
     "output_type": "display_data"
    }
   ],
   "source": [
    "books=tc.avg_book()\n",
    "\n",
    "avg ,book = map(list, zip(*books))\n",
    "samlet=pd.DataFrame({'book':book,'avg':avg}).set_index('book')\n",
    "samlet.plot.bar()\n"
   ]
  },
  {
   "cell_type": "code",
   "execution_count": null,
   "metadata": {},
   "outputs": [],
   "source": []
  },
  {
   "cell_type": "markdown",
   "metadata": {},
   "source": [
    "\n"
   ]
  },
  {
   "cell_type": "code",
   "execution_count": null,
   "metadata": {},
   "outputs": [],
   "source": []
  },
  {
   "cell_type": "code",
   "execution_count": null,
   "metadata": {},
   "outputs": [],
   "source": []
  },
  {
   "cell_type": "code",
   "execution_count": null,
   "metadata": {},
   "outputs": [],
   "source": [
    "\n",
    "from modules_w6 import TextComparer \n",
    "import pandas as pd\n",
    "booklist=['https://www.gutenberg.org/files/84/84-0.txt','https://www.gutenberg.org/files/1342/1342-0.txt','https://www.gutenberg.org/files/25344/25344-0.txt','https://www.gutenberg.org/files/11/11-0.txt','https://www.gutenberg.org/files/1952/1952-0.txt','https://www.gutenberg.org/files/2542/2542-0.txt','https://www.gutenberg.org/files/408/408-0.txt','https://www.gutenberg.org/files/2701/2701-0.txt','https://www.gutenberg.org/files/345/345-0.txt','https://www.gutenberg.org/files/1080/1080-0.txt']\n",
    "tc=TextComparer.TextComparer(booklist)\n",
    "tc.download('https://www.gutenberg.org/files/84/84-0.txt')\n",
    "g=tc.urllist_generator()\n",
    "\n",
    "tc.multi_download()\n",
    "#print(next(tc))\n",
    "#print(next(tc))\n",
    "#print(next(tc))\n",
    "\n",
    "tc.hardest_read()\n",
    "#tc.avg_vowels('84-0.txt')"
   ]
  }
 ],
 "metadata": {
  "kernelspec": {
   "display_name": "Python 3",
   "language": "python",
   "name": "python3"
  },
  "language_info": {
   "codemirror_mode": {
    "name": "ipython",
    "version": 3
   },
   "file_extension": ".py",
   "mimetype": "text/x-python",
   "name": "python",
   "nbconvert_exporter": "python",
   "pygments_lexer": "ipython3",
   "version": "3.8.8"
  }
 },
 "nbformat": 4,
 "nbformat_minor": 4
}
