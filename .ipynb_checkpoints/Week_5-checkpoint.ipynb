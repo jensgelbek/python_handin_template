{
 "cells": [
  {
   "cell_type": "markdown",
   "metadata": {},
   "source": [
    "#### Week 5 handin Panda"
   ]
  },
  {
   "cell_type": "markdown",
   "metadata": {},
   "source": [
    "## Ex1 Use data from Danmarks Statistik - Databanken\n",
    "1. Go to https://www.dst.dk/da/Statistik/brug-statistikken/muligheder-i-statistikbanken/api#testkonsol\n",
    "2. Open 'Konsol' and click 'Start Konsol'\n",
    "3. In the console at pt 1: choose 'Retrieve tables', pt 2: choose get request and json format and pt 3: execute:\n",
    "  1. check the result\n",
    "  2. in the code below this same get request is used to get information about all available data tables in 'databanken'. \n",
    "4. Change pt. 1 in the console to 'Retrieve data', pt 2: 'get request' and Table id: 'FOLK1A', format: csv, delimiter: semicolon and click: 'Variable and value codes' and choose some sub categories (Hint: hover over the codes to see their meaning). Finally execute and see what data you get.\n",
    "5. With data aggregation and data visualization answer the following questions:\n",
    "  1. What is the change in pct of divorced danes from 2008 to 2020?\n",
    "  2. Which of the 5 biggest cities has the highest percentage of 'Never Married' in 2020?\n",
    "  3. Show a bar chart of changes in marrital status in Copenhagen from 2008 till now\n",
    "  4. Show 2 plots in same figure: 'Married' and 'Never Married' for all ages in DK in 2020 (Hint: x axis is age from 0-125, y axis is how many people in the 2 categories). Add lengend to show names on graphs\n"
   ]
  },
  {
   "cell_type": "markdown",
   "metadata": {},
   "source": [
    "## 02 Status\n",
    "Did exercise one, the mandatory one.\n"
   ]
  },
  {
   "cell_type": "markdown",
   "metadata": {},
   "source": [
    "## 03 Solution"
   ]
  },
  {
   "cell_type": "code",
   "execution_count": 2,
   "metadata": {},
   "outputs": [
    {
     "name": "stdout",
     "output_type": "stream",
     "text": [
      "2008: \n",
      "Divorced: 428864 Total: 5475791\n",
      "Percentage: 7.83\n",
      "\n",
      "2020: \n",
      "Divorced: 544588 Total: 5822763\n",
      "Percentage: 9.35\n",
      "\n",
      "The divorce percentage has risen 1.52\n",
      "\n"
     ]
    }
   ],
   "source": [
    "#A What is the change in pct of divorced danes from 2008 to 2020?\n",
    "import pandas as pd\n",
    "data=pd.read_csv('https://api.statbank.dk/v1/data/FOLK1A/CSV?valuePresentation=Default&delimiter=Semicolon&OMR%C3%85DE=*&CIVILSTAND=*&Tid=2008K1%2C2020K1',delimiter=';')\n",
    "data['TID'] = data['TID'].map(lambda x:x[:-2])# remove K1 from TID\n",
    "\n",
    "divorced2008=data.loc[(data['TID']=='2008') & (data['CIVILSTAND']=='Fraskilt') & (data['OMRÅDE']=='Hele landet')].iloc[0,3]\n",
    "divorced2020=data.loc[(data['TID']=='2020') & (data['CIVILSTAND']=='Fraskilt') & (data['OMRÅDE']=='Hele landet')].iloc[0,3]\n",
    "\n",
    "\n",
    "total2008=data.loc[(data['TID']=='2008') & (data['CIVILSTAND']=='I alt') & (data['OMRÅDE']=='Hele landet')].iloc[0,3]\n",
    "total2020=data.loc[(data['TID']=='2020') & (data['CIVILSTAND']=='I alt') & (data['OMRÅDE']=='Hele landet')].iloc[0,3]\n",
    "\n",
    "percent2008=divorced2008/total2008*100\n",
    "percent2020=divorced2020/total2020*100\n",
    "\n",
    "print('2008: \\nDivorced: {} Total: {}\\nPercentage: {}\\n'.format(divorced2008,total2008,round(percent2008,2)))\n",
    "print('2020: \\nDivorced: {} Total: {}\\nPercentage: {}\\n'.format(divorced2020,total2020,round(percent2020,2)))\n",
    "print('The divorce percentage has risen {}\\n'.format(round(percent2020-percent2008,2)))\n"
   ]
  },
  {
   "cell_type": "code",
   "execution_count": 35,
   "metadata": {
    "scrolled": true
   },
   "outputs": [
    {
     "name": "stdout",
     "output_type": "stream",
     "text": [
      "The top5 city with most \"Never Married\" in 2020 is København it has a \"never married percentage\" of 65.2\n"
     ]
    }
   ],
   "source": [
    "#B Which of the 5 biggest cities has the highest percentage of 'Never Married' in 2020?\n",
    "\n",
    "top5_cities=data.loc[data['CIVILSTAND']=='I alt'].loc[data['TID']=='2020'].sort_values(by=['INDHOLD'],ascending=False).iloc[1:6,:]\n",
    "\n",
    "def nm_percent (omr):\n",
    "    nevermarried2020=data.loc[data['OMRÅDE']==omr].loc[data['CIVILSTAND']=='Ugift'].loc[data['TID']=='2020'].iloc[0,3]\n",
    "    total2020=data.loc[data['OMRÅDE']==omr].loc[data['CIVILSTAND']=='I alt'].loc[data['TID']=='2020'].iloc[0,3]\n",
    "    return(nevermarried2020/total2020*100)\n",
    "\n",
    "\n",
    "top5_cities['nmp']=top5_cities['OMRÅDE'].apply(nm_percent)\n",
    "top5_cities=top5_cities.sort_values(by=['nmp'],ascending=False)\n",
    "name=top5_cities.iloc[0,0]\n",
    "nmp=top5_cities.iloc[0,4]\n",
    "\n",
    "print('The top5 city with most \"Never Married\" in 2020 is {} it has a \"never married percentage\" of {}'.format(name,round(nmp,1)) )                                                                                                                              \n"
   ]
  },
  {
   "cell_type": "code",
   "execution_count": 55,
   "metadata": {},
   "outputs": [
    {
     "data": {
      "text/plain": [
       "<AxesSubplot:xlabel='TID'>"
      ]
     },
     "execution_count": 55,
     "metadata": {},
     "output_type": "execute_result"
    },
    {
     "data": {
      "image/png": "[encoded data removed]",
      "text/plain": [
       "<Figure size 432x288 with 1 Axes>"
      ]
     },
     "metadata": {
      "needs_background": "light"
     },
     "output_type": "display_data"
    }
   ],
   "source": [
    "#C Show a bar chart of changes in marrital status in Copenhagen from 2008 till now\n",
    "\n",
    "data=pd.read_csv('https://api.statbank.dk/v1/data/FOLK1A/CSV?valuePresentation=Default&delimiter=Semicolon&OMR%C3%85DE=101&CIVILSTAND=*&Tid=2008K1%2C2009K1%2C2010K1%2C2011K1%2C2012K1%2C2013K1%2C2014K1%2C2015K1%2C2016K1%2C2017K1%2C2018K1%2C2019K1%2C2020K1',delimiter=';')\n",
    "data['TID'] = data['TID'].map(lambda x:x[:-2])# remove K1 from TID\n",
    "data.set_index('TID')\n",
    "\n",
    "fraskilt=data.loc[data['CIVILSTAND']=='Fraskilt'][['TID','INDHOLD']].set_index('TID').rename(columns={'INDHOLD': 'Fraskilt'})\n",
    "gift=data.loc[data['CIVILSTAND']=='Gift/separeret'][['TID','INDHOLD']].set_index('TID').rename(columns={'INDHOLD': 'Gift'})\n",
    "ugift=data.loc[data['CIVILSTAND']=='Ugift'][['TID','INDHOLD']].set_index('TID').rename(columns={'INDHOLD': 'Ugift'})\n",
    "enke=data.loc[data['CIVILSTAND']=='Enke/enkemand'][['TID','INDHOLD']].set_index('TID').rename(columns={'INDHOLD': 'Enke'})\n",
    "samlet=pd.concat((gift,ugift,fraskilt,enke),axis=1)\n",
    "samlet.plot.bar(stacked=True)"
   ]
  },
  {
   "cell_type": "code",
   "execution_count": null,
   "metadata": {},
   "outputs": [],
   "source": []
  },
  {
   "cell_type": "code",
   "execution_count": null,
   "metadata": {},
   "outputs": [],
   "source": []
  },
  {
   "cell_type": "code",
   "execution_count": null,
   "metadata": {},
   "outputs": [],
   "source": []
  },
  {
   "cell_type": "code",
   "execution_count": null,
   "metadata": {},
   "outputs": [],
   "source": []
  },
  {
   "cell_type": "code",
   "execution_count": null,
   "metadata": {},
   "outputs": [],
   "source": []
  },
  {
   "cell_type": "markdown",
   "metadata": {},
   "source": [
    "\n"
   ]
  },
  {
   "cell_type": "code",
   "execution_count": null,
   "metadata": {},
   "outputs": [],
   "source": []
  },
  {
   "cell_type": "code",
   "execution_count": null,
   "metadata": {},
   "outputs": [],
   "source": []
  },
  {
   "cell_type": "code",
   "execution_count": null,
   "metadata": {},
   "outputs": [],
   "source": []
  }
 ],
 "metadata": {
  "kernelspec": {
   "display_name": "Python 3",
   "language": "python",
   "name": "python3"
  },
  "language_info": {
   "codemirror_mode": {
    "name": "ipython",
    "version": 3
   },
   "file_extension": ".py",
   "mimetype": "text/x-python",
   "name": "python",
   "nbconvert_exporter": "python",
   "pygments_lexer": "ipython3",
   "version": "3.8.8"
  }
 },
 "nbformat": 4,
 "nbformat_minor": 4
}
