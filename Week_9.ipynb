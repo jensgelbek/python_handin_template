{
 "cells": [
  {
   "cell_type": "markdown",
   "metadata": {},
   "source": [
    "# Week 1 handin"
   ]
  },
  {
   "cell_type": "markdown",
   "metadata": {},
   "source": [
    "## 01 Assignment\n",
    "1. load 'data/iris_data.csv' into a dataframe (use decimal=',') and remove the 2 Petal columns. Now we are left with a D feature space\n",
    "2. get unique labels (Species column)\n",
    "3. plot with a scatter plot each iris flower sample colored by label (3 different colors)image.png\n",
    "4. use: MeanShift and estimate_bandwidth from sklearn.cluster to first estimate bandwidth and then get the clusters (HINT: estimate_bandwidth() takes an argument: quantile set it to 0.2 for best result)\n",
    "5. print out labels, cluster centers and number of clusters (as returned from the MeanShift function)\n",
    "6. create a new scatter plot where each flower is colored according to cluster label\n",
    "7. add a dot for the cluster centers\n",
    "8. Compare the 2 plots (colored by actual labels vs. colored by cluster label)\n",
    "9. Try changing the 'quantile' argument to 0.15 and see what happens to your cluster plot.\n"
   ]
  },
  {
   "cell_type": "markdown",
   "metadata": {},
   "source": [
    "## 02 Status\n",
    "Did it...\n"
   ]
  },
  {
   "cell_type": "markdown",
   "metadata": {},
   "source": [
    "## 03 Solution part 1"
   ]
  },
  {
   "cell_type": "code",
   "execution_count": 1,
   "metadata": {},
   "outputs": [],
   "source": [
    "import pandas as pd\n",
    "import matplotlib.pyplot as plt"
   ]
  },
  {
   "cell_type": "code",
   "execution_count": 2,
   "metadata": {},
   "outputs": [
    {
     "data": {
      "image/png": "[encoded data removed]",
      "text/plain": [
       "<Figure size 432x288 with 1 Axes>"
      ]
     },
     "metadata": {
      "needs_background": "light"
     },
     "output_type": "display_data"
    }
   ],
   "source": [
    "# 1. load 'data/iris_data.csv' into a dataframe (use decimal=',') and remove the 2 Petal columns. Now we are left with a D feature space\n",
    "#2. get unique labels (Species column)\n",
    "#3. plot with a scatter plot each iris flower sample colored by label (3 different colors)image.png\n",
    "\n",
    "df = pd.read_csv('data/iris_data.csv', decimal=\",\")\n",
    "del df['Petal length']\n",
    "del df['Petal width']\n",
    "\n",
    "unique = df.Species.unique()\n",
    "\n",
    "fig = plt.figure()\n",
    "ax = fig.add_subplot(111)\n",
    "\n",
    "for i, col in zip(unique, 'rgb'):\n",
    "    d = df[df.Species == i]\n",
    "    x, y = d[\"Sepal length\"], d[\"Sepal width\"]\n",
    "    ax.scatter(x, y, c=col)\n"
   ]
  },
  {
   "cell_type": "code",
   "execution_count": 3,
   "metadata": {
    "scrolled": false
   },
   "outputs": [
    {
     "name": "stdout",
     "output_type": "stream",
     "text": [
      "Labels: [0 0 0 0 0 0 0 0 0 0 0 0 0 0 0 0 0 0 0 0 0 0 0 0 0 0 0 0 0 0 0 0 0 0 0 0 0\n",
      " 0 0 0 0 0 0 0 0 0 0 0 0 0 2 1 1 1 1 1 1 3 1 1 3 1 1 1 1 1 1 1 1 1 1 1 1 1\n",
      " 1 1 1 1 1 1 1 1 1 1 1 1 1 1 1 1 1 1 1 1 1 1 1 1 1 1 2 2 2 2 2 2 3 2 2 2 2\n",
      " 2 2 3 2 2 2 2 2 2 2 3 2 2 2 2 2 2 2 2 2 2 2 2 2 2 2 2 2 2 2 2 2 2 2 2 2 2\n",
      " 2 2].\n",
      "Cluster centers: [[4.95227273 3.37727273 0.        ]\n",
      " [5.9        2.775      1.        ]\n",
      " [6.49714286 3.         2.        ]\n",
      " [4.9        2.5        2.        ]].\n",
      "Numbers of clusters: 4.\n"
     ]
    }
   ],
   "source": [
    "\n",
    "\n",
    "\n",
    "\n",
    "# 4. use: MeanShift and estimate_bandwidth from sklearn.cluster to first estimate bandwidth and then get the clusters (HINT: estimate_bandwidth() takes an argument: quantile set it to 0.2 for best result)\n",
    "# 5. print out labels, cluster centers and number of clusters (as returned from the MeanShift function)\n",
    "from sklearn.cluster import MeanShift, estimate_bandwidth\n",
    "from sklearn import preprocessing\n",
    "import numpy as np\n",
    "\n",
    "\n",
    "label_enc = preprocessing.LabelEncoder()\n",
    "df[\"Species\"] = label_enc.fit_transform(df[\"Species\"].astype(str))\n",
    "\n",
    "def mean_shift(d, q=0.2):\n",
    "    bandwith = estimate_bandwidth(d, quantile=q)\n",
    "    ms = MeanShift(bandwidth=bandwith)\n",
    "    ms.fit(d)\n",
    "    labels = ms.labels_\n",
    "    cluster_centers = ms.cluster_centers_\n",
    "    labels_unique = np.unique(labels)\n",
    "    n_clusters = len(labels_unique)\n",
    "    \n",
    "    return labels, cluster_centers, n_clusters\n",
    "\n",
    "labels, cluster_centers, n_clusters = mean_shift(df)\n",
    "\n",
    "print(f'Labels: {labels}.')\n",
    "print(f'Cluster centers: {cluster_centers}.')\n",
    "print(f'Numbers of clusters: {n_clusters}.')"
   ]
  },
  {
   "cell_type": "code",
   "execution_count": 7,
   "metadata": {},
   "outputs": [
    {
     "data": {
      "image/png": "[encoded data removed]",
      "text/plain": [
       "<Figure size 432x288 with 1 Axes>"
      ]
     },
     "metadata": {
      "needs_background": "light"
     },
     "output_type": "display_data"
    }
   ],
   "source": [
    "#6. create a new scatter plot where each flower is colored according to cluster label\n",
    "#7. add a dot for the cluster centers\n",
    "fig = plt.figure()\n",
    "ax = fig.add_subplot(111)\n",
    "\n",
    "for idx, col in zip(range(n_clusters), \"rgby\"):\n",
    "    data = df[labels == idx]\n",
    "    x, y = data[\"Sepal length\"], data[\"Sepal width\"]\n",
    "    ax.scatter(x, y, c=col, linewidth=0.2)\n",
    "    cluster_center = cluster_centers[idx]\n",
    "    ax.scatter(cluster_center[0], cluster_center[1], c='k', s=70)\n"
   ]
  },
  {
   "cell_type": "code",
   "execution_count": 5,
   "metadata": {},
   "outputs": [],
   "source": [
    "#8. Compare the 2 plots (colored by actual labels vs. colored by cluster label)\n",
    "#i have compared the two plots and they are almost identical if you combine the yellow and green clusters"
   ]
  },
  {
   "cell_type": "code",
   "execution_count": 6,
   "metadata": {},
   "outputs": [
    {
     "name": "stdout",
     "output_type": "stream",
     "text": [
      "Labels: [0 0 0 0 0 0 0 0 5 0 0 0 0 5 0 0 0 0 0 0 0 0 0 0 0 0 0 0 0 0 0 0 0 0 0 0 0\n",
      " 0 0 0 0 5 0 0 0 0 0 0 0 0 1 2 1 2 2 2 2 2 2 2 2 2 2 2 2 2 2 2 2 2 2 2 2 2\n",
      " 2 2 2 2 2 2 2 2 2 2 2 2 2 2 2 2 2 2 2 2 2 2 2 2 2 2 1 1 1 1 1 3 4 1 1 3 1\n",
      " 1 1 4 1 1 1 3 3 1 1 4 3 1 1 3 1 1 1 1 3 3 1 1 1 3 1 1 1 1 1 1 1 1 1 1 1 1\n",
      " 1 1].\n",
      "Cluster centers: [[4.97435897 3.38205128 0.        ]\n",
      " [6.45483871 3.         2.        ]\n",
      " [5.76451613 2.74193548 1.        ]\n",
      " [7.6        3.73333333 2.        ]\n",
      " [4.9        2.5        2.        ]\n",
      " [4.5        2.3        0.        ]].\n",
      "Numbers of clusters: 6.\n"
     ]
    }
   ],
   "source": [
    "labels, cluster_centers, n_clusters = mean_shift(df, 0.15)\n",
    "\n",
    "print(f'Labels: {labels}.')\n",
    "print(f'Cluster centers: {cluster_centers}.')\n",
    "print(f'Numbers of clusters: {n_clusters}.')"
   ]
  },
  {
   "cell_type": "code",
   "execution_count": null,
   "metadata": {},
   "outputs": [],
   "source": [
    "#Now it found 6 clusters, and before it only found 4..."
   ]
  },
  {
   "cell_type": "markdown",
   "metadata": {},
   "source": [
    "\n"
   ]
  },
  {
   "cell_type": "code",
   "execution_count": null,
   "metadata": {},
   "outputs": [],
   "source": []
  },
  {
   "cell_type": "code",
   "execution_count": null,
   "metadata": {},
   "outputs": [],
   "source": []
  }
 ],
 "metadata": {
  "kernelspec": {
   "display_name": "Python 3",
   "language": "python",
   "name": "python3"
  },
  "language_info": {
   "codemirror_mode": {
    "name": "ipython",
    "version": 3
   },
   "file_extension": ".py",
   "mimetype": "text/x-python",
   "name": "python",
   "nbconvert_exporter": "python",
   "pygments_lexer": "ipython3",
   "version": "3.8.8"
  }
 },
 "nbformat": 4,
 "nbformat_minor": 4
}
